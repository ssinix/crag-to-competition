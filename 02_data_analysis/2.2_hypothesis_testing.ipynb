{
 "cells": [
  {
   "metadata": {},
   "cell_type": "markdown",
   "source": [
    "# Hypothesis Testing on IFSC and 8a.nu Climbing Data\n",
    "\n",
    "## Introduction\n",
    "\n",
    "This section explores statistical relationships between outdoor and competition climbing performance using a merged dataset derived from two key sources: **IFSC** (competition climbing data) and **8a.nu** (outdoor climbing data), which was scraped and merged in the notebooks located in the `01_data_collection` folder. For details on the data collection and merging process, refer to those notebooks. By analyzing this unified dataset, we aim to investigate whether measurable trends or correlations exist between climbers’ achievements across different contexts.\n",
    "\n",
    "## Objectives\n",
    "\n",
    "The main goals of this analysis are to test the following hypotheses:\n",
    "\n",
    "1. **Outdoor vs. Competition Performance**\n",
    "   Do climbers with stronger outdoor climbing metrics—such as higher maximum grade or a greater number of 8c+ ascents—also perform better in competitions?\n",
    "   *Separate hypothesis tests will be conducted for each competition discipline: bouldering, lead, and combined.*\n",
    "\n",
    "2. **Interdisciplinary Competition Correlation**\n",
    "   Is there a statistically significant correlation between performance in different IFSC competition disciplines (e.g., do high lead scores correlate with high boulder scores)?\n",
    "\n",
    "3. **Outdoor Performance Correlation**\n",
    "   Within outdoor climbing, is there a meaningful correlation between the metrics (e.g., do higher average grades correlate with higher best grade climbed)?\n"
   ],
   "id": "cecb5ef614824640"
  },
  {
   "metadata": {
    "ExecuteTime": {
     "end_time": "2025-04-24T13:58:51.202763Z",
     "start_time": "2025-04-24T13:58:51.200437Z"
    }
   },
   "cell_type": "code",
   "source": [
    "import pandas as pd\n",
    "import numpy as np\n",
    "import scipy.stats as stats"
   ],
   "id": "d71919a2cc26ad57",
   "outputs": [],
   "execution_count": 1
  },
  {
   "metadata": {
    "ExecuteTime": {
     "end_time": "2025-04-24T13:59:13.880478Z",
     "start_time": "2025-04-24T13:59:13.868904Z"
    }
   },
   "cell_type": "code",
   "source": "df = pd.read_csv('../data/final_data.csv')",
   "id": "69041c1aa7ed4a69",
   "outputs": [],
   "execution_count": 2
  },
  {
   "metadata": {},
   "cell_type": "markdown",
   "source": [
    "## Hypothesis Test: Outdoor Grade 8c+ vs. Competition Performance\n",
    "\n",
    "Do climbers perform better in **competitions** if they have climbed an **outdoor grade of 8c+ or above**?\n",
    "\n",
    "### Methodology\n",
    "\n",
    "- **Test Type:** One-tailed, two-sample t-test\n",
    "- **Grouping Variable:** Whether the climber has climbed 8c+ or above\n",
    "- **Dependent Variable:** Competition points (tested separately for 3 disciplines)\n",
    "\n",
    "This test aims to determine whether there is a statistically significant difference in competition performance between climbers who have reached the 8c+ outdoor benchmark and those who have not.\n",
    "\n"
   ],
   "id": "571e3a3ba2b985a2"
  },
  {
   "metadata": {},
   "cell_type": "markdown",
   "source": [
    "### Test 1: Outdoor Grade 8c+ vs **Bouldering**\n",
    "Do climbers perform better in **bouldering competitions** if they have climbed an **outdoor grade of 8c+ or above**?\n",
    "\n",
    "#### Hypotheses\n",
    "\n",
    "- **Null Hypothesis (H₀):**  Climbing an outdoor grade of 8c+ or above has no effect on bouldering competition performance.\n",
    "  Mathematically:\n",
    "  μ₁ = μ₂  *(Where μ₁ = mean boulder points for climbers who have climbed 8c+ or above, μ₂ = mean boulder points for those who have not.)*\n",
    "\n",
    "- **Alternative Hypothesis (Hₐ):**  Climbers who have climbed an outdoor grade of 8c+ or above perform better in bouldering competitions.\n",
    "  Mathematically:\n",
    "  μ₁ > μ₂"
   ],
   "id": "af658989bdaa75be"
  },
  {
   "metadata": {},
   "cell_type": "code",
   "outputs": [],
   "execution_count": null,
   "source": "",
   "id": "c0d24523ab98b80d"
  }
 ],
 "metadata": {
  "kernelspec": {
   "display_name": "Python 3",
   "language": "python",
   "name": "python3"
  },
  "language_info": {
   "codemirror_mode": {
    "name": "ipython",
    "version": 2
   },
   "file_extension": ".py",
   "mimetype": "text/x-python",
   "name": "python",
   "nbconvert_exporter": "python",
   "pygments_lexer": "ipython2",
   "version": "2.7.6"
  }
 },
 "nbformat": 4,
 "nbformat_minor": 5
}
