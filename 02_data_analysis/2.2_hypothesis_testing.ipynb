{
 "cells": [
  {
   "metadata": {},
   "cell_type": "markdown",
   "source": [
    "# Hypothesis Testing on IFSC and 8a.nu Climbing Data\n",
    "\n",
    "## Introduction\n",
    "\n",
    "This  explores statistical relationships between outdoor and competition climbing performance using a dataset derived from two key sources: **IFSC** (competition climbing data) and **8a.nu** (outdoor climbing data), which was scraped and merged in the notebooks located in the `01_data_collection` folder. For details on the data collection and merging process, refer to those notebooks. By analyzing this unified dataset, we aim to investigate whether measurable trends or correlations exist between climbers’ achievements across different contexts.\n",
    "\n",
    "## Objectives\n",
    "\n",
    "The main goals of this analysis are to test the following hypotheses:\n",
    "\n",
    "- **Outdoor vs. Competition Performance**\n",
    "   Do climbers with stronger outdoor climbing metrics—such as higher maximum grade or having a 8c+ ascent—also perform better in competitions?\n",
    "   *Separate hypothesis tests will be conducted for each competition discipline: bouldering, lead, and combined.*\n",
    "\n",
    "- **Interdisciplinary Competition Correlation**\n",
    "   Is there a statistically significant correlation between performance in different IFSC competition disciplines (e.g., do high lead scores correlate with high boulder scores)?\n",
    "\n",
    "- **Outdoor Performance Correlation**\n",
    "   Within outdoor climbing, is there a meaningful correlation between the metrics (e.g., do higher average grades correlate with higher best grade climbed)?\n"
   ],
   "id": "cecb5ef614824640"
  },
  {
   "metadata": {
    "ExecuteTime": {
     "end_time": "2025-04-25T14:27:28.119533Z",
     "start_time": "2025-04-25T14:27:28.117395Z"
    }
   },
   "cell_type": "code",
   "source": [
    "import pandas as pd\n",
    "import scipy.stats as stats"
   ],
   "id": "d71919a2cc26ad57",
   "outputs": [],
   "execution_count": 1
  },
  {
   "metadata": {
    "ExecuteTime": {
     "end_time": "2025-04-25T14:27:29.314080Z",
     "start_time": "2025-04-25T14:27:29.304980Z"
    }
   },
   "cell_type": "code",
   "source": "df = pd.read_csv('../data/final_data.csv')",
   "id": "69041c1aa7ed4a69",
   "outputs": [],
   "execution_count": 2
  },
  {
   "metadata": {},
   "cell_type": "markdown",
   "source": [
    "## Hypothesis Test 1: Outdoor Grade 8c+ vs. Competition Performance\n",
    "\n",
    "Do climbers perform better in **competitions** if they have climbed an **outdoor grade of 8c+ or above**?\n",
    "\n",
    "#### Hypotheses:\n",
    "\n",
    "- **$H_0$**: Climbing an outdoor grade of 8c+ or above has no effect on competition performance in a specific discipline.\n",
    "  μ₁ = μ₂\n",
    "  *(Where μ₁ = mean competition points in specific discipline for climbers who have climbed 8c+ or above, μ₂ = mean boulder points for those who have not.)*\n",
    "\n",
    "- **$H_a$**:  Climbers who have climbed an outdoor grade of 8c+ or above perform better on competitions in said specific discipline.\n",
    "  μ₁ > μ₂\n",
    "\n",
    "#### Methodology\n",
    "- **Test Type:** One-tailed, **Two-sample T-Test**\n",
    "$$\n",
    "t = \\frac{\\bar{X}_A - \\bar{X}_B}{\\sqrt{\\frac{s_A^2}{n_A} + \\frac{s_B^2}{n_B}}}\n",
    "$$\n",
    "- **Grouping Variable:** Whether the climber has climbed 8c+ or above\n",
    "- **Dependent Variable:** Competition points (tested separately for 3 disciplines)\n",
    "\n",
    "This test aims to determine whether there is a statistically significant difference in competition performance between climbers who have reached the 8c+ outdoor benchmark and those who have not.\n",
    "To conduct this analysis, a Python function is defined and called separately for each discipline to evaluate the hypothesis:"
   ],
   "id": "571e3a3ba2b985a2"
  },
  {
   "metadata": {
    "ExecuteTime": {
     "end_time": "2025-04-25T14:27:30.607409Z",
     "start_time": "2025-04-25T14:27:30.603180Z"
    }
   },
   "cell_type": "code",
   "source": [
    "def perform_t_test(df, points_column, alpha=0.05):\n",
    "    # Filter athletes with non-zero points for the discipline\n",
    "    athletes = df[df[points_column] > 0]\n",
    "\n",
    "    # Sample 1: Climbers with 8c+ or above\n",
    "    sample_1 = athletes[athletes['count_8c_plus'] > 0][points_column]\n",
    "    # Sample 2: Climbers without 8c+ (count_8c_plus is NaN)\n",
    "    sample_2 = athletes[athletes['count_8c_plus'].isna()][points_column]\n",
    "\n",
    "    # Perform one-tailed t-test (Hₐ: μ₁ > μ₂)\n",
    "    t_stat, p_value = stats.ttest_ind(sample_1, sample_2, equal_var=False, alternative='greater')\n",
    "\n",
    "    # Print results\n",
    "    discipline = points_column.replace('_points', '').capitalize()\n",
    "    print(f\"\\n{discipline} Discipline:\")\n",
    "    print(f\"t-statistic: {t_stat:.4f}\")\n",
    "    print(f\"One-tailed p-value: {p_value:.4f}\")\n",
    "    print(f\"Sample sizes: With 8c+ = {len(sample_1)}, Without 8c+ = {len(sample_2)}\")\n",
    "\n",
    "    # Interpret results\n",
    "    if p_value < alpha:\n",
    "        print(f\"Reject H₀: Climbers with 8c+ perform significantly better in {discipline.lower()} discipline.\")\n",
    "    else:\n",
    "        print(f\"Fail to reject H₀: No significant evidence that climbers with 8c+ perform better in {discipline.lower()} discipline.\")"
   ],
   "id": "c0d24523ab98b80d",
   "outputs": [],
   "execution_count": 3
  },
  {
   "metadata": {
    "ExecuteTime": {
     "end_time": "2025-04-25T14:27:31.189247Z",
     "start_time": "2025-04-25T14:27:31.178710Z"
    }
   },
   "cell_type": "code",
   "source": [
    "# List of disciplines (points columns)\n",
    "disciplines = ['boulder_points', 'lead_points', 'combined_points']\n",
    "\n",
    "# Perform t-test for each discipline\n",
    "for points_column in disciplines:\n",
    "    perform_t_test(df, points_column)"
   ],
   "id": "a81ee137cc5ad763",
   "outputs": [
    {
     "name": "stdout",
     "output_type": "stream",
     "text": [
      "\n",
      "Boulder Discipline:\n",
      "t-statistic: 1.8086\n",
      "One-tailed p-value: 0.0382\n",
      "Sample sizes: With 8c+ = 41, Without 8c+ = 388\n",
      "Reject H₀: Climbers with 8c+ perform significantly better in boulder discipline.\n",
      "\n",
      "Lead Discipline:\n",
      "t-statistic: 2.3655\n",
      "One-tailed p-value: 0.0105\n",
      "Sample sizes: With 8c+ = 51, Without 8c+ = 265\n",
      "Reject H₀: Climbers with 8c+ perform significantly better in lead discipline.\n",
      "\n",
      "Combined Discipline:\n",
      "t-statistic: 2.4045\n",
      "One-tailed p-value: 0.0103\n",
      "Sample sizes: With 8c+ = 32, Without 8c+ = 163\n",
      "Reject H₀: Climbers with 8c+ perform significantly better in combined discipline.\n"
     ]
    }
   ],
   "execution_count": 4
  },
  {
   "metadata": {},
   "cell_type": "markdown",
   "source": [
    "#### Conclusion:\n",
    "Overall, having climbed a grade of 8c+ or above appears to be a strong indicator of success in competition climbing. While all three disciplines show statistically significant improvements, the effect is especially pronounced in the **lead** and **combined** categories, suggesting that high-level outdoor climbing experience may translate more directly to these formats than to **bouldering**.\n"
   ],
   "id": "87add72b4a0e1003"
  },
  {
   "metadata": {},
   "cell_type": "markdown",
   "source": [
    "## Hypothesis Test 2: Highest Grade Achieved in Outdoor Climbing vs. Competition Performance\n",
    "\n",
    "Is there a statistically significant correlation between the **highest outdoor grade** a climber has achieved and their **performance in competition climbing**?\n",
    "\n",
    "#### Hypotheses:\n",
    "\n",
    "- **$H_0$**: There is **no correlation** between the highest grade ever climbed in outdoor climbing and competition performance.  ρ = 0\n",
    "  *(Where ρ is the population correlation coefficient between `highest_grade` and a given competition performance metric, such as `boulder_points`.)*\n",
    "\n",
    "- **$H_a$**: There **is a correlation** between the highest grade ever climbed in outdoor climbing and competition performance.  ρ ≠ 0\n",
    "\n",
    "#### Methodology\n",
    "\n",
    "- **Test Type: Pearson correlation test**\n",
    "- **Independent Variable:** `highest_grade` (converted to numeric scale while scraping)\n",
    "- **Dependent Variables:** Competition points (`boulder_points`, `lead_points`, and `combined_points`)\n",
    "\n",
    "To conduct this analysis, a Python function is defined and called separately for each discipline:\n"
   ],
   "id": "7c17adb578d3c5ed"
  },
  {
   "metadata": {
    "ExecuteTime": {
     "end_time": "2025-04-25T14:27:34.535067Z",
     "start_time": "2025-04-25T14:27:34.529548Z"
    }
   },
   "cell_type": "code",
   "source": [
    "def test_grade_correlation(df, points_column, alpha=0.05):\n",
    "    # Filter athletes who competed in the discipline and have a recorded highest_grade\n",
    "    athletes = df[(df[points_column] > 0) & (df['highest_grade'] > 0)]\n",
    "\n",
    "    # Perform Pearson correlation test\n",
    "    r, p_value = stats.pearsonr(athletes[points_column], athletes['highest_grade'])\n",
    "\n",
    "    # Print results\n",
    "    discipline = points_column.replace('_points', '').capitalize()\n",
    "    print(f\"\\n{discipline} Discipline:\")\n",
    "    print(f\"Pearson Correlation Coefficient: {r:.4f}\")\n",
    "    print(f\"Two-tailed p-value: {p_value:.4f}\")\n",
    "    print(f\"Sample size: {len(athletes)}\")\n",
    "\n",
    "    # Interpret results\n",
    "    if p_value < alpha:\n",
    "        print(f\"Reject H₀: Significant correlation between highest grade and {discipline.lower()} performance.\")\n",
    "    else:\n",
    "        print(f\"Fail to reject H₀: No significant correlation between highest grade and {discipline.lower()} performance.\")"
   ],
   "id": "33b94fc00d840e0e",
   "outputs": [],
   "execution_count": 5
  },
  {
   "metadata": {
    "ExecuteTime": {
     "end_time": "2025-04-25T14:27:35.081928Z",
     "start_time": "2025-04-25T14:27:35.076388Z"
    }
   },
   "cell_type": "code",
   "source": [
    "# List of disciplines (points columns)\n",
    "disciplines = ['boulder_points', 'lead_points', 'combined_points']\n",
    "\n",
    "# Perform correlation test for each discipline\n",
    "for points_column in disciplines:\n",
    "    test_grade_correlation(df, points_column)"
   ],
   "id": "d6d9200ed33a0893",
   "outputs": [
    {
     "name": "stdout",
     "output_type": "stream",
     "text": [
      "\n",
      "Boulder Discipline:\n",
      "Pearson Correlation Coefficient: 0.2791\n",
      "Two-tailed p-value: 0.0024\n",
      "Sample size: 116\n",
      "Reject H₀: Significant correlation between highest grade and boulder performance.\n",
      "\n",
      "Lead Discipline:\n",
      "Pearson Correlation Coefficient: 0.1689\n",
      "Two-tailed p-value: 0.0699\n",
      "Sample size: 116\n",
      "Fail to reject H₀: No significant correlation between highest grade and lead performance.\n",
      "\n",
      "Combined Discipline:\n",
      "Pearson Correlation Coefficient: 0.2915\n",
      "Two-tailed p-value: 0.0106\n",
      "Sample size: 76\n",
      "Reject H₀: Significant correlation between highest grade and combined performance.\n"
     ]
    }
   ],
   "execution_count": 6
  },
  {
   "metadata": {},
   "cell_type": "markdown",
   "source": [
    "#### Conclusion: Correlation Between Highest Outdoor Grade and Competition Performance\n",
    "\n",
    "The results of the Pearson correlation tests show that there **is a statistically significant correlation** between the **highest outdoor grade** a climber has achieved and their **competition performance** in two out of the three disciplines:\n",
    "\n",
    "- In the **bouldering and combined** disciplines, a **moderate positive correlation** was found, indicating that climbers who have sent harder outdoor routes tend to perform better in bouldering and combined competitions.\n",
    "- However, for the **lead** discipline, the correlation (r = 0.1689) was **not statistically significant** at the 0.05 level (p = 0.0699), meaning we cannot confidently conclude a relationship in this case, which is surprising since outdoor sport climbing is most similar to lead climbing.\n",
    "\n",
    "These results suggest that **outdoor climbing experience—particularly reaching higher grades—may be linked to improved competition performance**, especially in **bouldering** and **combined** formats. However, the absence of significance in lead climbing implies that the relationship may be more complex or non-linear.\n"
   ],
   "id": "9e31d69485c753e0"
  },
  {
   "metadata": {},
   "cell_type": "markdown",
   "source": [
    "## Hypothesis Test 3: Performance Across IFSC Competition Disciplines\n",
    "\n",
    "Is there a statistically significant correlation between performance in different **IFSC competition disciplines**?\n",
    "\n",
    "#### Hypotheses\n",
    "\n",
    "- **$H_0$**: There is **no correlation** between performance in different competition disciplines.   Mathematically:  ρ = 0\n",
    "  *(Where ρ is the population correlation coefficient eg. between `boulder_points` and `lead_points`)*\n",
    "\n",
    "- **$H_a$**:  There **is a correlation** between performance in different competition disciplines. Mathematically:  ρ ≠ 0\n",
    "\n",
    "#### Methodology\n",
    "\n",
    "- **Test Type:** Pearson correlation test\n",
    "\n",
    "This test aims to assess whether success in one competition discipline is predictive of success in another, which could indicate shared skillsets or training transfer across disciplines.\n",
    "To conduct this analysis, a Python function is defined and called separately for each discipline to evaluate the hypothesis:"
   ],
   "id": "2245b3b36c56b385"
  },
  {
   "metadata": {
    "ExecuteTime": {
     "end_time": "2025-04-25T14:28:15.124412Z",
     "start_time": "2025-04-25T14:28:15.118404Z"
    }
   },
   "cell_type": "code",
   "source": [
    "# Filter athletes who competed in both bouldering and lead climbing\n",
    "athletes_both = df[(df['boulder_points'] > 0) & (df['lead_points'] > 0)]\n",
    "\n",
    "# Compute Pearson correlation\n",
    "r, p_value = stats.pearsonr(athletes_both['boulder_points'], athletes_both['lead_points'])\n",
    "\n",
    "print(f\"Pearson Correlation Coefficient: {r:.4f}\")\n",
    "print(f\"p-value: {p_value:.4f}\")"
   ],
   "id": "dc7b048d2c8fc1c1",
   "outputs": [
    {
     "name": "stdout",
     "output_type": "stream",
     "text": [
      "Pearson Correlation Coefficient: 0.5940\n",
      "p-value: 0.0000\n"
     ]
    }
   ],
   "execution_count": 7
  },
  {
   "metadata": {},
   "cell_type": "code",
   "outputs": [],
   "execution_count": null,
   "source": "",
   "id": "3646ff90d0bb3a61"
  }
 ],
 "metadata": {
  "kernelspec": {
   "display_name": "Python 3",
   "language": "python",
   "name": "python3"
  },
  "language_info": {
   "codemirror_mode": {
    "name": "ipython",
    "version": 2
   },
   "file_extension": ".py",
   "mimetype": "text/x-python",
   "name": "python",
   "nbconvert_exporter": "python",
   "pygments_lexer": "ipython2",
   "version": "2.7.6"
  }
 },
 "nbformat": 4,
 "nbformat_minor": 5
}
