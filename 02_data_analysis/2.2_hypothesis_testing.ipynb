{
 "cells": [
  {
   "metadata": {},
   "cell_type": "markdown",
   "source": [
    "# Hypothesis Testing on IFSC and 8a.nu Climbing Data\n",
    "\n",
    "## Introduction\n",
    "\n",
    "This section explores statistical relationships between outdoor and competition climbing performance using a merged dataset derived from two key sources: **IFSC** (competition climbing data) and **8a.nu** (outdoor climbing data), which was scraped and merged in the notebooks located in the `01_data_collection` folder. For details on the data collection and merging process, refer to those notebooks. By analyzing this unified dataset, we aim to investigate whether measurable trends or correlations exist between climbers’ achievements across different contexts.\n",
    "\n",
    "## Objectives\n",
    "\n",
    "The main goals of this analysis are to test the following hypotheses:\n",
    "\n",
    "1. **Outdoor vs. Competition Performance**\n",
    "   Do climbers with stronger outdoor climbing metrics—such as higher maximum grade or a greater number of 8c+ ascents—also perform better in competitions?\n",
    "   *Separate hypothesis tests will be conducted for each competition discipline: bouldering, lead, and combined.*\n",
    "\n",
    "2. **Interdisciplinary Competition Correlation**\n",
    "   Is there a statistically significant correlation between performance in different IFSC competition disciplines (e.g., do high lead scores correlate with high boulder scores)?\n",
    "\n",
    "3. **Outdoor Performance Correlation**\n",
    "   Within outdoor climbing, is there a meaningful correlation between the metrics (e.g., do higher average grades correlate with higher best grade climbed)?\n"
   ],
   "id": "cecb5ef614824640"
  },
  {
   "metadata": {
    "ExecuteTime": {
     "end_time": "2025-04-24T14:34:18.738487Z",
     "start_time": "2025-04-24T14:34:18.734527Z"
    }
   },
   "cell_type": "code",
   "source": [
    "import pandas as pd\n",
    "import scipy.stats as stats"
   ],
   "id": "d71919a2cc26ad57",
   "outputs": [],
   "execution_count": 5
  },
  {
   "metadata": {
    "ExecuteTime": {
     "end_time": "2025-04-24T14:34:14.386742Z",
     "start_time": "2025-04-24T14:34:14.377151Z"
    }
   },
   "cell_type": "code",
   "source": "df = pd.read_csv('../data/final_data.csv')",
   "id": "69041c1aa7ed4a69",
   "outputs": [],
   "execution_count": 4
  },
  {
   "metadata": {},
   "cell_type": "markdown",
   "source": [
    "## Hypothesis Test: Outdoor Grade 8c+ vs. Competition Performance\n",
    "\n",
    "Do climbers perform better in **competitions** if they have climbed an **outdoor grade of 8c+ or above**?\n",
    "\n",
    "### Methodology\n",
    "\n",
    "- **Test Type:** One-tailed, two-sample t-test\n",
    "- **Grouping Variable:** Whether the climber has climbed 8c+ or above\n",
    "- **Dependent Variable:** Competition points (tested separately for 3 disciplines)\n",
    "\n",
    "This test aims to determine whether there is a statistically significant difference in competition performance between climbers who have reached the 8c+ outdoor benchmark and those who have not.\n",
    "\n"
   ],
   "id": "571e3a3ba2b985a2"
  },
  {
   "metadata": {},
   "cell_type": "markdown",
   "source": [
    "### Test 1: Outdoor Grade 8c+ vs **Bouldering**\n",
    "Do climbers perform better in **bouldering competitions** if they have climbed an **outdoor grade of 8c+ or above**?\n",
    "\n",
    "#### Hypotheses\n",
    "\n",
    "- **Null Hypothesis (H₀):**  Climbing an outdoor grade of 8c+ or above has no effect on bouldering competition performance.\n",
    "Mathematically:\n",
    "  μ₁ = μ₂  *(Where μ₁ = mean boulder points for climbers who have climbed 8c+ or above, μ₂ = mean boulder points for those who have not.)*\n",
    "\n",
    "- **Alternative Hypothesis (Hₐ):**  Climbers who have climbed an outdoor grade of 8c+ or above perform better in bouldering competitions.\n",
    "Mathematically:\n",
    "  μ₁ > μ₂"
   ],
   "id": "af658989bdaa75be"
  },
  {
   "metadata": {
    "ExecuteTime": {
     "end_time": "2025-04-24T14:54:18.333040Z",
     "start_time": "2025-04-24T14:54:18.325528Z"
    }
   },
   "cell_type": "code",
   "source": [
    "# Filter bouldering athletes\n",
    "boulder_athletes = df[df['boulder_points'] > 0]\n",
    "\n",
    "# Define the two samples\n",
    "# Sample 1: Climbers with 8c+ or above\n",
    "sample_1 = boulder_athletes[boulder_athletes['count_8c_plus'] > 0]['boulder_points']\n",
    "\n",
    "# Sample 2: Climbers without 8c+ (count_8c_plus is NaN for no ascents)\n",
    "sample_2 = boulder_athletes[boulder_athletes['count_8c_plus'].isna()]['boulder_points']\n",
    "\n",
    "# Perform one-tailed t-test (Hₐ: μ₁ > μ₂)\n",
    "t_stat, p_value = stats.ttest_ind(sample_1, sample_2, equal_var=False, alternative='greater')\n",
    "\n",
    "print(f\"t-statistic: {t_stat:.4f}\")\n",
    "print(f\"One-tailed p-value: {p_value:.4f}\")"
   ],
   "id": "c0d24523ab98b80d",
   "outputs": [
    {
     "name": "stdout",
     "output_type": "stream",
     "text": [
      "t-statistic: 1.8086\n",
      "One-tailed p-value: 0.0382\n"
     ]
    }
   ],
   "execution_count": 7
  },
  {
   "metadata": {},
   "cell_type": "markdown",
   "source": [
    "Since the p-value (0.0382) is **less than** the significance level (0.05), we **reject the null hypothesis (H₀)**.\n",
    "\n",
    "**Conclusion:**  Climbers who have climbed a grade of 8c+ or above perform significantly better in bouldering competitions."
   ],
   "id": "dbea1a41d92dd976"
  },
  {
   "metadata": {},
   "cell_type": "markdown",
   "source": [
    "### Test 2: Outdoor Grade 8c+ vs **Lead**\n",
    "Do climbers perform better in **lead competitions** if they have climbed an **outdoor grade of 8c+ or above**?\n",
    "\n",
    "#### Hypotheses\n",
    "\n",
    "- **Null Hypothesis (H₀):**  Climbing an outdoor grade of 8c+ or above has no effect on lead competition performance.\n",
    "Mathematically:\n",
    "  μ₁ = μ₂  *(Where μ₁ = mean lead points for climbers who have climbed 8c+ or above, μ₂ = mean lead points for those who have not.)*\n",
    "\n",
    "- **Alternative Hypothesis (Hₐ):**  Climbers who have climbed an outdoor grade of 8c+ or above perform better in lead competitions.\n",
    "Mathematically:\n",
    "  μ₁ > μ₂"
   ],
   "id": "d74f7af0047b82c6"
  },
  {
   "metadata": {
    "ExecuteTime": {
     "end_time": "2025-04-24T15:09:50.258659Z",
     "start_time": "2025-04-24T15:09:50.250434Z"
    }
   },
   "cell_type": "code",
   "source": [
    "# Filter lead athletes\n",
    "combined_athletes = df[df['lead_points'] > 0]\n",
    "\n",
    "# Define the two samples\n",
    "# Sample 1: Climbers with 8c+ or above\n",
    "sample_1 = combined_athletes[combined_athletes['count_8c_plus'] > 0]['lead_points']\n",
    "\n",
    "# Sample 2: Climbers without 8c+ (count_8c_plus is NaN for no ascents)\n",
    "sample_2 = combined_athletes[combined_athletes['count_8c_plus'].isna()]['lead_points']\n",
    "\n",
    "# Perform one-tailed t-test (Hₐ: μ₁ > μ₂)\n",
    "t_stat, p_value = stats.ttest_ind(sample_1, sample_2, equal_var=False, alternative='greater')\n",
    "\n",
    "print(f\"t-statistic: {t_stat:.4f}\")\n",
    "print(f\"One-tailed p-value: {p_value:.4f}\")"
   ],
   "id": "f6453f6960eb2155",
   "outputs": [
    {
     "name": "stdout",
     "output_type": "stream",
     "text": [
      "t-statistic: 2.3655\n",
      "One-tailed p-value: 0.0105\n"
     ]
    }
   ],
   "execution_count": 8
  },
  {
   "metadata": {},
   "cell_type": "markdown",
   "source": [
    "Since the p-value (0.0105) is **less than** the significance level (0.05), we **reject the null hypothesis (H₀)**.\n",
    "\n",
    "**Conclusion:**  Climbers who have climbed a grade of 8c+ or above perform significantly better in lead competitions."
   ],
   "id": "7b62acb5c7ae8328"
  },
  {
   "metadata": {},
   "cell_type": "markdown",
   "source": [
    "### Test 3: Outdoor Grade 8c+ vs **Combined**\n",
    "Do climbers perform better in **combined competitions** if they have climbed an **outdoor grade of 8c+ or above**?\n",
    "\n",
    "#### Hypotheses\n",
    "\n",
    "- **Null Hypothesis (H₀):**  Climbing an outdoor grade of 8c+ or above has no effect on combined competition performance.\n",
    "Mathematically:\n",
    "  μ₁ = μ₂  *(Where μ₁ = mean lead points for climbers who have climbed 8c+ or above, μ₂ = mean lead points for those who have not.)*\n",
    "\n",
    "- **Alternative Hypothesis (Hₐ):**  Climbers who have climbed an outdoor grade of 8c+ or above perform better in combined competitions.\n",
    "Mathematically:\n",
    "  μ₁ > μ₂"
   ],
   "id": "8408c93bcefa8bd3"
  },
  {
   "metadata": {
    "ExecuteTime": {
     "end_time": "2025-04-24T15:30:36.781644Z",
     "start_time": "2025-04-24T15:30:36.773453Z"
    }
   },
   "cell_type": "code",
   "source": [
    "# Filter combined athletes\n",
    "combined_athletes = df[df['combined_points'] > 0]\n",
    "\n",
    "# Define the two samples\n",
    "# Sample 1: Climbers with 8c+ or above\n",
    "sample_1 = combined_athletes[combined_athletes['count_8c_plus'] > 0]['combined_points']\n",
    "\n",
    "# Sample 2: Climbers without 8c+ (count_8c_plus is NaN for no ascents)\n",
    "sample_2 = combined_athletes[combined_athletes['count_8c_plus'].isna()]['combined_points']\n",
    "\n",
    "# Perform one-tailed t-test (Hₐ: μ₁ > μ₂)\n",
    "t_stat, p_value = stats.ttest_ind(sample_1, sample_2, equal_var=False, alternative='greater')\n",
    "\n",
    "print(f\"t-statistic: {t_stat:.4f}\")\n",
    "print(f\"One-tailed p-value: {p_value:.4f}\")"
   ],
   "id": "9564b45f296db8c0",
   "outputs": [
    {
     "name": "stdout",
     "output_type": "stream",
     "text": [
      "t-statistic: 2.4045\n",
      "One-tailed p-value: 0.0103\n"
     ]
    }
   ],
   "execution_count": 9
  },
  {
   "metadata": {},
   "cell_type": "markdown",
   "source": [
    "Since the p-value (0.0103) is **less than** the significance level (0.05), we **reject the null hypothesis (H₀)**.\n",
    "\n",
    "**Conclusion:**  Climbers who have climbed a grade of 8c+ or above perform significantly better in combined competitions."
   ],
   "id": "b67a8c7a265f2e45"
  }
 ],
 "metadata": {
  "kernelspec": {
   "display_name": "Python 3",
   "language": "python",
   "name": "python3"
  },
  "language_info": {
   "codemirror_mode": {
    "name": "ipython",
    "version": 2
   },
   "file_extension": ".py",
   "mimetype": "text/x-python",
   "name": "python",
   "nbconvert_exporter": "python",
   "pygments_lexer": "ipython2",
   "version": "2.7.6"
  }
 },
 "nbformat": 4,
 "nbformat_minor": 5
}
