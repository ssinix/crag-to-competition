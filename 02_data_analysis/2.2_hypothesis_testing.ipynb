{
 "cells": [
  {
   "metadata": {},
   "cell_type": "markdown",
   "source": [
    "# Hypothesis Testing on IFSC and 8a.nu Climbing Data\n",
    "\n",
    "## Introduction\n",
    "\n",
    "This  explores statistical relationships between outdoor and competition climbing performance using a dataset derived from two key sources: **IFSC** (competition climbing data) and **8a.nu** (outdoor climbing data), which was scraped and merged in the notebooks located in the `01_data_collection` folder. For details on the data collection and merging process, refer to those notebooks. By analyzing this unified dataset, we aim to investigate whether measurable trends or correlations exist between climbers’ achievements across different contexts.\n",
    "\n",
    "## Objectives\n",
    "\n",
    "The main goals of this analysis are to test the following hypotheses:\n",
    "\n",
    "- **Outdoor vs. Competition Performance:**\n",
    "   Do climbers with stronger outdoor climbing metrics—such as higher maximum grade or having a 8c+ ascent—also perform better in competitions?\n",
    "   *Separate hypothesis tests will be conducted for each competition discipline: bouldering, lead, and combined.*\n",
    "\n",
    "- **Interdisciplinary Competition Correlation:**\n",
    "   Is there a statistically significant correlation between performance in different IFSC competition disciplines (e.g., do high lead scores correlate with high boulder scores)?\n",
    "- **Outdoor Performance Correlation:**\n",
    "    Within outdoor climbing, is there a meaningful correlation between the metrics (e.g., do higher average grades correlate with higher best grade climbed)?\n"
   ],
   "id": "cecb5ef614824640"
  },
  {
   "metadata": {
    "ExecuteTime": {
     "end_time": "2025-04-25T20:03:13.260061Z",
     "start_time": "2025-04-25T20:03:13.258020Z"
    }
   },
   "cell_type": "code",
   "source": [
    "import pandas as pd\n",
    "import scipy.stats as stats"
   ],
   "id": "d71919a2cc26ad57",
   "outputs": [],
   "execution_count": 1
  },
  {
   "metadata": {
    "ExecuteTime": {
     "end_time": "2025-04-25T20:03:14.475716Z",
     "start_time": "2025-04-25T20:03:14.463902Z"
    }
   },
   "cell_type": "code",
   "source": "df = pd.read_csv('../data/final_data.csv')",
   "id": "69041c1aa7ed4a69",
   "outputs": [],
   "execution_count": 2
  },
  {
   "metadata": {},
   "cell_type": "markdown",
   "source": [
    "## Hypothesis Test 1: Outdoor Grade 8c+ vs. Competition Performance\n",
    "\n",
    "Do climbers perform better in **competitions** if they have climbed an **outdoor grade of 8c+ or above**?\n",
    "\n",
    "#### Hypotheses:\n",
    "\n",
    "- **$H_0$**: Climbing an outdoor grade of 8c+ or above has no effect on competition performance in a specific discipline.\n",
    "  μ₁ = μ₂\n",
    "  *(Where μ₁ = mean competition points in specific discipline (eg. `boulder_points`) for climbers who have climbed 8c+ or above, μ₂ = mean boulder points for those who have not.)*\n",
    "\n",
    "- **$H_a$**:  Climbers who have climbed an outdoor grade of 8c+ or above perform better on competitions in said specific discipline.\n",
    "  μ₁ > μ₂\n",
    "\n",
    "#### Methodology\n",
    "- **Test Type:** One-tailed, **Two-sample T-Test**\n",
    "- **Grouping Variable:** Whether the climber has climbed 8c+ or above\n",
    "- **Dependent Variable:** Competition points (tested separately for 3 disciplines)\n",
    "\n",
    "This test aims to determine whether there is a statistically significant difference in competition performance between climbers who have reached the 8c+ outdoor benchmark and those who have not.\n",
    "To conduct this analysis, a Python function is defined and called separately for each discipline to evaluate the hypothesis:"
   ],
   "id": "571e3a3ba2b985a2"
  },
  {
   "metadata": {
    "ExecuteTime": {
     "end_time": "2025-04-25T20:03:15.506370Z",
     "start_time": "2025-04-25T20:03:15.502158Z"
    }
   },
   "cell_type": "code",
   "source": [
    "def perform_t_test(df, points_column, alpha=0.05):\n",
    "    # Filter athletes with non-zero points for the discipline\n",
    "    athletes = df[df[points_column] > 0]\n",
    "\n",
    "    # Sample 1: Climbers with 8c+ or above\n",
    "    sample_1 = athletes[athletes['count_8c_plus'] > 0][points_column]\n",
    "    # Sample 2: Climbers without 8c+ (count_8c_plus is NaN)\n",
    "    sample_2 = athletes[athletes['count_8c_plus'].isna()][points_column]\n",
    "\n",
    "    # Perform one-tailed t-test (Hₐ: μ₁ > μ₂)\n",
    "    t_stat, p_value = stats.ttest_ind(sample_1, sample_2, equal_var=False, alternative='greater')\n",
    "\n",
    "    # Print results\n",
    "    discipline = points_column.replace('_points', '').capitalize()\n",
    "    print(f\"\\n{discipline} Discipline:\")\n",
    "    print(f\"T-Test p-value: {p_value:.4f}\")\n",
    "    print(f\"Sample sizes: With 8c+ = {len(sample_1)}, Without 8c+ = {len(sample_2)}\")\n",
    "\n",
    "    # Interpret results\n",
    "    if p_value < alpha:\n",
    "        print(f\"Reject H₀: Climbers with 8c+ perform significantly better in {discipline.lower()} discipline.\")\n",
    "    else:\n",
    "        print(f\"Fail to reject H₀: No significant evidence that climbers with 8c+ perform better in {discipline.lower()} discipline.\")"
   ],
   "id": "c0d24523ab98b80d",
   "outputs": [],
   "execution_count": 3
  },
  {
   "metadata": {
    "ExecuteTime": {
     "end_time": "2025-04-25T20:03:16.303301Z",
     "start_time": "2025-04-25T20:03:16.291002Z"
    }
   },
   "cell_type": "code",
   "source": [
    "# List of disciplines (points columns)\n",
    "disciplines = ['boulder_points', 'lead_points', 'combined_points']\n",
    "\n",
    "# Perform correlation test for each discipline\n",
    "for points_column in disciplines:\n",
    "    perform_t_test(df, points_column)"
   ],
   "id": "7c3ea6d096486c5a",
   "outputs": [
    {
     "name": "stdout",
     "output_type": "stream",
     "text": [
      "\n",
      "Boulder Discipline:\n",
      "T-Test p-value: 0.0382\n",
      "Sample sizes: With 8c+ = 41, Without 8c+ = 388\n",
      "Reject H₀: Climbers with 8c+ perform significantly better in boulder discipline.\n",
      "\n",
      "Lead Discipline:\n",
      "T-Test p-value: 0.0105\n",
      "Sample sizes: With 8c+ = 51, Without 8c+ = 265\n",
      "Reject H₀: Climbers with 8c+ perform significantly better in lead discipline.\n",
      "\n",
      "Combined Discipline:\n",
      "T-Test p-value: 0.0103\n",
      "Sample sizes: With 8c+ = 32, Without 8c+ = 163\n",
      "Reject H₀: Climbers with 8c+ perform significantly better in combined discipline.\n"
     ]
    }
   ],
   "execution_count": 4
  },
  {
   "metadata": {},
   "cell_type": "markdown",
   "source": [
    "#### Conclusion:\n",
    "Overall, having climbed a grade of 8c+ or above appears to be a strong indicator of success in competition climbing. While all three disciplines show statistically significant improvements, the effect is especially pronounced in the **lead** and **combined** categories, suggesting that high-level outdoor climbing experience may translate more directly to these formats than to **bouldering**.\n"
   ],
   "id": "87add72b4a0e1003"
  },
  {
   "metadata": {},
   "cell_type": "markdown",
   "source": [
    "## Hypothesis Test 2: Highest Grade Achieved in Outdoor Climbing vs. Competition Performance\n",
    "\n",
    "Is there a statistically significant correlation between the **highest outdoor grade** a climber has achieved and their **performance in competition climbing**?\n",
    "\n",
    "#### Hypotheses:\n",
    "\n",
    "- **$H_0$**: There is **no correlation** between the highest grade ever climbed in outdoor climbing and competition performance.  ρ = 0\n",
    "  *(Where ρ is the population correlation coefficient between `highest_grade` and a given competition performance metric, such as `boulder_points`.)*\n",
    "\n",
    "- **$H_a$**: There **is a correlation** between the highest grade ever climbed in outdoor climbing and competition performance.  ρ ≠ 0\n",
    "\n",
    "#### Methodology\n",
    "\n",
    "- **Test Type: Pearson correlation test**\n",
    "- **Independent Variable:** `highest_grade` (converted to numeric scale while scraping)\n",
    "- **Dependent Variables:** Competition points (`boulder_points`, `lead_points`, and `combined_points`)\n",
    "\n",
    "To conduct this analysis, a Python function is defined and called separately for each discipline:\n"
   ],
   "id": "7c17adb578d3c5ed"
  },
  {
   "metadata": {
    "ExecuteTime": {
     "end_time": "2025-04-25T20:03:17.695033Z",
     "start_time": "2025-04-25T20:03:17.691259Z"
    }
   },
   "cell_type": "code",
   "source": [
    "def test_correlation(df, metric1, metric2,alpha=0.05):\n",
    "    # Filter athletes who has metric 1 and 2 (eg. who compete in boulder and lead)\n",
    "    athletes = df[(df[metric1] > 0) & (df[metric2] > 0)]\n",
    "\n",
    "    # Perform Pearson correlation test\n",
    "    r, p_value = stats.pearsonr(athletes[metric1], athletes[metric2])\n",
    "\n",
    "    # Print results\n",
    "    print(f\"\\n{metric1} vs. {metric2}\")\n",
    "    print(f\"Pearson Correlation Coefficient: {r:.4f}\")\n",
    "    print(f\"Two-tailed p-value: {p_value:.4e}\")\n",
    "    print(f\"Sample size: {len(athletes)}\")\n",
    "\n",
    "    # Interpret results\n",
    "    if p_value < alpha:\n",
    "        print(f\"Reject H₀: Significant correlation between {metric1} and {metric2}.\")\n",
    "    else:\n",
    "        print(f\"Fail to reject H₀: No significant correlation between {metric1} and {metric2}.\")"
   ],
   "id": "33b94fc00d840e0e",
   "outputs": [],
   "execution_count": 5
  },
  {
   "metadata": {
    "ExecuteTime": {
     "end_time": "2025-04-25T20:03:18.350751Z",
     "start_time": "2025-04-25T20:03:18.344081Z"
    }
   },
   "cell_type": "code",
   "source": [
    "# List of disciplines (points columns)\n",
    "disciplines = ['boulder_points', 'lead_points', 'combined_points']\n",
    "\n",
    "# Perform correlation test for each discipline\n",
    "for points_column in disciplines:\n",
    "    test_correlation(df, points_column,'highest_grade')"
   ],
   "id": "d6d9200ed33a0893",
   "outputs": [
    {
     "name": "stdout",
     "output_type": "stream",
     "text": [
      "\n",
      "boulder_points vs. highest_grade\n",
      "Pearson Correlation Coefficient: 0.2791\n",
      "Two-tailed p-value: 2.4140e-03\n",
      "Sample size: 116\n",
      "Reject H₀: Significant correlation between boulder_points and highest_grade.\n",
      "\n",
      "lead_points vs. highest_grade\n",
      "Pearson Correlation Coefficient: 0.1689\n",
      "Two-tailed p-value: 6.9930e-02\n",
      "Sample size: 116\n",
      "Fail to reject H₀: No significant correlation between lead_points and highest_grade.\n",
      "\n",
      "combined_points vs. highest_grade\n",
      "Pearson Correlation Coefficient: 0.2915\n",
      "Two-tailed p-value: 1.0621e-02\n",
      "Sample size: 76\n",
      "Reject H₀: Significant correlation between combined_points and highest_grade.\n"
     ]
    }
   ],
   "execution_count": 6
  },
  {
   "metadata": {},
   "cell_type": "markdown",
   "source": [
    "#### Conclusion:\n",
    "\n",
    "- In the **bouldering and combined** disciplines, a **moderate positive correlation** was found, indicating that climbers who have sent harder outdoor routes tend to perform better in bouldering and combined competitions.\n",
    "- However, for the **lead** discipline, the correlation (r = 0.1689) was **not statistically significant** at the 0.05 level (p = 0.0699), meaning we cannot confidently conclude a relationship in this case, which is surprising since outdoor sport climbing is most similar to lead climbing.\n",
    "\n",
    "These results suggest that **outdoor climbing experience—particularly reaching higher grades—may be linked to improved competition performance**, especially in **bouldering** and **combined** formats. However, the absence of significance in lead climbing implies that the relationship may be more complex or non-linear.\n"
   ],
   "id": "9e31d69485c753e0"
  },
  {
   "metadata": {},
   "cell_type": "markdown",
   "source": [
    "## Hypothesis Test 3: Average Outdoor Grade vs. Competition Performance\n",
    "Is there a statistically significant correlation between a climber's average outdoor climbing grade and their performance in competition climbing?\n",
    "\n",
    "#### Hypotheses:\n",
    "\n",
    "- **$H_0$**: There is **no correlation** between the average outdoor climbing grade and competition performance.  ρ = 0\n",
    "  *(Where ρ is the population correlation coefficient between `avg_grade_first5` and a given competition performance metric, such as `boulder_points`.)*\n",
    "\n",
    "- **$H_a$**: There **is a correlation** between the average outdoor climbing grade and competition performance.  ρ ≠ 0\n",
    "\n",
    "#### Methodology\n",
    "\n",
    "- **Test Type: Pearson correlation test**\n",
    "- **Independent Variable:** `avg_grade_first5` (converted to numeric scale while scraping)\n",
    "- **Dependent Variables:** Competition points (`boulder_points`, `lead_points`, and `combined_points`)\n",
    "\n",
    "The same Python function used in Test 2 (`test_correlation`) is applied here, with the only difference being the outdoor performance metric passed as a parameter. Instead of highest_grade, we now use avg_grade_first5 to evaluate the correlation."
   ],
   "id": "c9dd80ea87052880"
  },
  {
   "metadata": {
    "ExecuteTime": {
     "end_time": "2025-04-25T20:03:20.283836Z",
     "start_time": "2025-04-25T20:03:20.278392Z"
    }
   },
   "cell_type": "code",
   "source": [
    "# Perform correlation test for each discipline\n",
    "for points_column in disciplines:\n",
    "    test_correlation(df, points_column,'avg_grade_first5')"
   ],
   "id": "e7aa5ff0309d1dcf",
   "outputs": [
    {
     "name": "stdout",
     "output_type": "stream",
     "text": [
      "\n",
      "boulder_points vs. avg_grade_first5\n",
      "Pearson Correlation Coefficient: 0.3271\n",
      "Two-tailed p-value: 3.3878e-04\n",
      "Sample size: 116\n",
      "Reject H₀: Significant correlation between boulder_points and avg_grade_first5.\n",
      "\n",
      "lead_points vs. avg_grade_first5\n",
      "Pearson Correlation Coefficient: 0.1849\n",
      "Two-tailed p-value: 4.6929e-02\n",
      "Sample size: 116\n",
      "Reject H₀: Significant correlation between lead_points and avg_grade_first5.\n",
      "\n",
      "combined_points vs. avg_grade_first5\n",
      "Pearson Correlation Coefficient: 0.3209\n",
      "Two-tailed p-value: 4.7021e-03\n",
      "Sample size: 76\n",
      "Reject H₀: Significant correlation between combined_points and avg_grade_first5.\n"
     ]
    }
   ],
   "execution_count": 7
  },
  {
   "metadata": {},
   "cell_type": "markdown",
   "source": [
    "#### Conclusion:\n",
    "There are statistically significant but moderate correlations between competition performance and average outdoor grade. The strongest relationships appear in bouldering and combined formats, suggesting some alignment between outdoor climbing ability and competition outcomes. However, the relatively modest correlation values indicate that outdoor performance is only one of many factors influencing competition success.\n"
   ],
   "id": "474a00fa6866e7df"
  },
  {
   "metadata": {},
   "cell_type": "markdown",
   "source": [
    "## Hypothesis Test 4: Performance Across IFSC Competition Disciplines\n",
    "\n",
    "Is there a statistically significant correlation between performance in different **IFSC competition disciplines**?\n",
    "\n",
    "#### Hypotheses\n",
    "\n",
    "- **$H_0$**: There is **no correlation** between performance in different competition disciplines.   Mathematically:  ρ = 0\n",
    "  *(Where ρ is the population correlation coefficient eg. between `boulder_points` and `lead_points`)*\n",
    "\n",
    "- **$H_a$**:  There **is a correlation** between performance in different competition disciplines. Mathematically:  ρ ≠ 0\n",
    "\n",
    "#### Methodology\n",
    "\n",
    "- **Test Type:** Pearson correlation test\n",
    "\n",
    "This test aims to assess whether success in one competition discipline is predictive of success in another, which could indicate shared skillsets or training transfer across disciplines.\n",
    "The same `test_correlation` function used in previous tests is applied here, with combinations of competition points in different disciplines (`boulder_points`, `lead_points`,`combined_points`) as parameters."
   ],
   "id": "2245b3b36c56b385"
  },
  {
   "metadata": {
    "ExecuteTime": {
     "end_time": "2025-04-25T20:03:25.142816Z",
     "start_time": "2025-04-25T20:03:25.136828Z"
    }
   },
   "cell_type": "code",
   "source": [
    "test_correlation(df, 'boulder_points', 'lead_points')\n",
    "test_correlation(df, 'boulder_points', 'combined_points')\n",
    "test_correlation(df, 'lead_points', 'combined_points' )"
   ],
   "id": "1f0c47c049e17c81",
   "outputs": [
    {
     "name": "stdout",
     "output_type": "stream",
     "text": [
      "\n",
      "boulder_points vs. lead_points\n",
      "Pearson Correlation Coefficient: 0.5940\n",
      "Two-tailed p-value: 6.8724e-20\n",
      "Sample size: 194\n",
      "Reject H₀: Significant correlation between boulder_points and lead_points.\n",
      "\n",
      "boulder_points vs. combined_points\n",
      "Pearson Correlation Coefficient: 0.8283\n",
      "Two-tailed p-value: 5.9989e-50\n",
      "Sample size: 193\n",
      "Reject H₀: Significant correlation between boulder_points and combined_points.\n",
      "\n",
      "lead_points vs. combined_points\n",
      "Pearson Correlation Coefficient: 0.8671\n",
      "Two-tailed p-value: 4.9803e-60\n",
      "Sample size: 194\n",
      "Reject H₀: Significant correlation between lead_points and combined_points.\n"
     ]
    }
   ],
   "execution_count": 8
  },
  {
   "metadata": {},
   "cell_type": "markdown",
   "source": [
    "#### Conclusion:\n",
    "The results show strong and statistically significant correlations between all three competition disciplines, suggesting that success in one discipline is strongly predictive of success in others, indicating overlapping skillsets and effective transfer of training across bouldering, lead, and combined formats.\n",
    "\n"
   ],
   "id": "ed8d2392ad8662e9"
  },
  {
   "metadata": {},
   "cell_type": "markdown",
   "source": [
    "## Hypothesis Test 5: Correlation Between Outdoor Climbing Performance Metrics\n",
    "\n",
    "Is there a statistically significant correlation between different **outdoor climbing performance metrics**, such as a climber’s **average grade** and their **highest grade**?\n",
    "\n",
    "#### Hypotheses\n",
    "\n",
    "- **$H_0$**: There is **no correlation** between outdoor climbing metrics (e.g., average grade and highest grade).  Mathematically: ρ = 0\n",
    "  *(Where ρ is the population correlation coefficient between `avg_outdoor_grade` and `highest_grade`.)*\n",
    "\n",
    "- **$H_a$**: There **is a correlation** between outdoor climbing metrics (e.g., average grade and highest grade). Mathematically: ρ ≠ 0\n",
    "\n",
    "#### Methodology\n",
    "\n",
    "- **Test Type:** Pearson correlation test\n",
    "\n",
    "The same `test_correlation` function used in previous tests is applied here, with combinations of outdoor climbing metrics (`highest_grade`, `avg_grade_first5`,`count_8c_plus`) as parameters.\n"
   ],
   "id": "45942a751a7ac7cc"
  },
  {
   "metadata": {
    "ExecuteTime": {
     "end_time": "2025-04-25T20:03:27.884382Z",
     "start_time": "2025-04-25T20:03:27.878484Z"
    }
   },
   "cell_type": "code",
   "source": [
    "test_correlation(df, 'highest_grade', 'avg_grade_first5')\n",
    "test_correlation(df, 'highest_grade', 'count_8c_plus')\n",
    "test_correlation(df, 'avg_grade_first5', 'count_8c_plus')"
   ],
   "id": "82cbc8d170cd76b3",
   "outputs": [
    {
     "name": "stdout",
     "output_type": "stream",
     "text": [
      "\n",
      "highest_grade vs. avg_grade_first5\n",
      "Pearson Correlation Coefficient: 0.9724\n",
      "Two-tailed p-value: 7.5802e-100\n",
      "Sample size: 157\n",
      "Reject H₀: Significant correlation between highest_grade and avg_grade_first5.\n",
      "\n",
      "highest_grade vs. count_8c_plus\n",
      "Pearson Correlation Coefficient: 0.6463\n",
      "Two-tailed p-value: 1.8443e-08\n",
      "Sample size: 61\n",
      "Reject H₀: Significant correlation between highest_grade and count_8c_plus.\n",
      "\n",
      "avg_grade_first5 vs. count_8c_plus\n",
      "Pearson Correlation Coefficient: 0.5852\n",
      "Two-tailed p-value: 7.2829e-07\n",
      "Sample size: 61\n",
      "Reject H₀: Significant correlation between avg_grade_first5 and count_8c_plus.\n"
     ]
    }
   ],
   "execution_count": 9
  },
  {
   "metadata": {},
   "cell_type": "markdown",
   "source": [
    "#### Conclusion:\n",
    "The results reveal strong and statistically significant correlations between key outdoor climbing performance metrics. In particular, the exceptionally high correlation between a climber’s highest grade and their average grade over their first five hardest ascents suggests strong consistency between peak and sustained outdoor performance.\n"
   ],
   "id": "36287be14387f028"
  }
 ],
 "metadata": {
  "kernelspec": {
   "display_name": "Python 3",
   "language": "python",
   "name": "python3"
  },
  "language_info": {
   "codemirror_mode": {
    "name": "ipython",
    "version": 2
   },
   "file_extension": ".py",
   "mimetype": "text/x-python",
   "name": "python",
   "nbconvert_exporter": "python",
   "pygments_lexer": "ipython2",
   "version": "2.7.6"
  }
 },
 "nbformat": 4,
 "nbformat_minor": 5
}
