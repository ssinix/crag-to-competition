{
 "cells": [
  {
   "metadata": {},
   "cell_type": "markdown",
   "source": [
    "# Exploratory Data Analysis and Visualization\n",
    "\n",
    "## Introduction\n",
    "\n",
    "This notebook performs an Exploratory Data Analysis (EDA) and visualization on the dataset `final_data.csv`, which was scraped and merged in the notebooks located in the `01_data_collection` folder. For details on the data collection and merging process, refer to those notebooks.\n",
    "\n",
    "The goal of this analysis is to uncover patterns, trends, and insights within the dataset through statistical summaries and visualizations. We will examine the data's structure, identify missing values, detect outliers, and explore relationships between variables. This EDA serves as a foundation for understanding the dataset's characteristics before the hypothesis tests."
   ],
   "id": "fa20b478386afd37"
  },
  {
   "cell_type": "code",
   "id": "initial_id",
   "metadata": {
    "collapsed": true,
    "ExecuteTime": {
     "end_time": "2025-04-22T17:36:35.403601Z",
     "start_time": "2025-04-22T17:36:35.400412Z"
    }
   },
   "source": [
    "import pandas as pd\n",
    "import seaborn as sns\n",
    "import matplotlib.pyplot as plt\n",
    "import numpy as np"
   ],
   "outputs": [],
   "execution_count": 2
  },
  {
   "metadata": {
    "ExecuteTime": {
     "end_time": "2025-04-22T17:36:35.898104Z",
     "start_time": "2025-04-22T17:36:35.882938Z"
    }
   },
   "cell_type": "code",
   "source": [
    "df = pd.read_csv('../data/final_data.csv')\n",
    "df.head()"
   ],
   "id": "7456f5bf216b6166",
   "outputs": [
    {
     "data": {
      "text/plain": [
       "              name country gender  boulder_points  lead_points  \\\n",
       "0    Sorato Anraku     JPN   male          3835.0       2281.0   \n",
       "1       Dohyun Lee     KOR   male          3708.0       2123.0   \n",
       "2  Meichi Narasaki     JPN   male          3055.0          NaN   \n",
       "3    Sohta Amagasa     JPN   male          2967.0          NaN   \n",
       "4   Tomoa Narasaki     JPN   male          2459.0        415.0   \n",
       "\n",
       "   combined_points  highest_grade  count_8c_plus  avg_grade_first5  \n",
       "0           6508.0            NaN            NaN               NaN  \n",
       "1           4710.0            NaN            NaN               NaN  \n",
       "2              NaN            NaN            NaN               NaN  \n",
       "3              NaN            NaN            NaN               NaN  \n",
       "4           2860.0            NaN            NaN               NaN  "
      ],
      "text/html": [
       "<div>\n",
       "<style scoped>\n",
       "    .dataframe tbody tr th:only-of-type {\n",
       "        vertical-align: middle;\n",
       "    }\n",
       "\n",
       "    .dataframe tbody tr th {\n",
       "        vertical-align: top;\n",
       "    }\n",
       "\n",
       "    .dataframe thead th {\n",
       "        text-align: right;\n",
       "    }\n",
       "</style>\n",
       "<table border=\"1\" class=\"dataframe\">\n",
       "  <thead>\n",
       "    <tr style=\"text-align: right;\">\n",
       "      <th></th>\n",
       "      <th>name</th>\n",
       "      <th>country</th>\n",
       "      <th>gender</th>\n",
       "      <th>boulder_points</th>\n",
       "      <th>lead_points</th>\n",
       "      <th>combined_points</th>\n",
       "      <th>highest_grade</th>\n",
       "      <th>count_8c_plus</th>\n",
       "      <th>avg_grade_first5</th>\n",
       "    </tr>\n",
       "  </thead>\n",
       "  <tbody>\n",
       "    <tr>\n",
       "      <th>0</th>\n",
       "      <td>Sorato Anraku</td>\n",
       "      <td>JPN</td>\n",
       "      <td>male</td>\n",
       "      <td>3835.0</td>\n",
       "      <td>2281.0</td>\n",
       "      <td>6508.0</td>\n",
       "      <td>NaN</td>\n",
       "      <td>NaN</td>\n",
       "      <td>NaN</td>\n",
       "    </tr>\n",
       "    <tr>\n",
       "      <th>1</th>\n",
       "      <td>Dohyun Lee</td>\n",
       "      <td>KOR</td>\n",
       "      <td>male</td>\n",
       "      <td>3708.0</td>\n",
       "      <td>2123.0</td>\n",
       "      <td>4710.0</td>\n",
       "      <td>NaN</td>\n",
       "      <td>NaN</td>\n",
       "      <td>NaN</td>\n",
       "    </tr>\n",
       "    <tr>\n",
       "      <th>2</th>\n",
       "      <td>Meichi Narasaki</td>\n",
       "      <td>JPN</td>\n",
       "      <td>male</td>\n",
       "      <td>3055.0</td>\n",
       "      <td>NaN</td>\n",
       "      <td>NaN</td>\n",
       "      <td>NaN</td>\n",
       "      <td>NaN</td>\n",
       "      <td>NaN</td>\n",
       "    </tr>\n",
       "    <tr>\n",
       "      <th>3</th>\n",
       "      <td>Sohta Amagasa</td>\n",
       "      <td>JPN</td>\n",
       "      <td>male</td>\n",
       "      <td>2967.0</td>\n",
       "      <td>NaN</td>\n",
       "      <td>NaN</td>\n",
       "      <td>NaN</td>\n",
       "      <td>NaN</td>\n",
       "      <td>NaN</td>\n",
       "    </tr>\n",
       "    <tr>\n",
       "      <th>4</th>\n",
       "      <td>Tomoa Narasaki</td>\n",
       "      <td>JPN</td>\n",
       "      <td>male</td>\n",
       "      <td>2459.0</td>\n",
       "      <td>415.0</td>\n",
       "      <td>2860.0</td>\n",
       "      <td>NaN</td>\n",
       "      <td>NaN</td>\n",
       "      <td>NaN</td>\n",
       "    </tr>\n",
       "  </tbody>\n",
       "</table>\n",
       "</div>"
      ]
     },
     "execution_count": 3,
     "metadata": {},
     "output_type": "execute_result"
    }
   ],
   "execution_count": 3
  },
  {
   "metadata": {
    "ExecuteTime": {
     "end_time": "2025-04-22T17:36:36.370258Z",
     "start_time": "2025-04-22T17:36:36.363784Z"
    }
   },
   "cell_type": "code",
   "source": "df.info()",
   "id": "a0eb7c3ea95744a2",
   "outputs": [
    {
     "name": "stdout",
     "output_type": "stream",
     "text": [
      "<class 'pandas.core.frame.DataFrame'>\n",
      "RangeIndex: 551 entries, 0 to 550\n",
      "Data columns (total 9 columns):\n",
      " #   Column            Non-Null Count  Dtype  \n",
      "---  ------            --------------  -----  \n",
      " 0   name              551 non-null    object \n",
      " 1   country           551 non-null    object \n",
      " 2   gender            551 non-null    object \n",
      " 3   boulder_points    429 non-null    float64\n",
      " 4   lead_points       316 non-null    float64\n",
      " 5   combined_points   195 non-null    float64\n",
      " 6   highest_grade     157 non-null    float64\n",
      " 7   count_8c_plus     61 non-null     float64\n",
      " 8   avg_grade_first5  157 non-null    float64\n",
      "dtypes: float64(6), object(3)\n",
      "memory usage: 38.9+ KB\n"
     ]
    }
   ],
   "execution_count": 4
  },
  {
   "metadata": {
    "ExecuteTime": {
     "end_time": "2025-04-22T17:36:36.917220Z",
     "start_time": "2025-04-22T17:36:36.913391Z"
    }
   },
   "cell_type": "code",
   "source": "df.shape",
   "id": "a6915420428d119c",
   "outputs": [
    {
     "data": {
      "text/plain": [
       "(551, 9)"
      ]
     },
     "execution_count": 5,
     "metadata": {},
     "output_type": "execute_result"
    }
   ],
   "execution_count": 5
  },
  {
   "metadata": {},
   "cell_type": "markdown",
   "source": "Our dataset has a total of **551 unique climbers** with 9 columns",
   "id": "d043a3496cf05ce0"
  },
  {
   "metadata": {},
   "cell_type": "markdown",
   "source": [
    "#### Summary Statistics\n",
    "Now let's look at the summary statistics of our dataset"
   ],
   "id": "8b780f421a9edcc8"
  },
  {
   "metadata": {
    "ExecuteTime": {
     "end_time": "2025-04-22T17:36:39.727148Z",
     "start_time": "2025-04-22T17:36:39.714403Z"
    }
   },
   "cell_type": "code",
   "source": "df.describe()",
   "id": "227fd14000ff6e00",
   "outputs": [
    {
     "data": {
      "text/plain": [
       "       boulder_points  lead_points  combined_points  highest_grade  \\\n",
       "count      429.000000   316.000000       195.000000     157.000000   \n",
       "mean       301.124242   372.655380       857.554872      21.847134   \n",
       "std        581.401670   643.704321      1311.443736       4.081173   \n",
       "min          1.000000     1.000000         4.000000       3.000000   \n",
       "25%         12.000000    12.000000        50.000000      20.000000   \n",
       "50%         69.000000    48.500000       237.800000      23.000000   \n",
       "75%        282.500000   421.000000      1076.750000      25.000000   \n",
       "max       3835.000000  3220.000000      6508.000000      29.000000   \n",
       "\n",
       "       count_8c_plus  avg_grade_first5  \n",
       "count      61.000000        157.000000  \n",
       "mean       16.180328         19.323439  \n",
       "std        51.418060          3.806938  \n",
       "min         1.000000          3.000000  \n",
       "25%         1.000000         18.000000  \n",
       "50%         5.000000         20.210000  \n",
       "75%        12.000000         21.790000  \n",
       "max       388.000000         25.540000  "
      ],
      "text/html": [
       "<div>\n",
       "<style scoped>\n",
       "    .dataframe tbody tr th:only-of-type {\n",
       "        vertical-align: middle;\n",
       "    }\n",
       "\n",
       "    .dataframe tbody tr th {\n",
       "        vertical-align: top;\n",
       "    }\n",
       "\n",
       "    .dataframe thead th {\n",
       "        text-align: right;\n",
       "    }\n",
       "</style>\n",
       "<table border=\"1\" class=\"dataframe\">\n",
       "  <thead>\n",
       "    <tr style=\"text-align: right;\">\n",
       "      <th></th>\n",
       "      <th>boulder_points</th>\n",
       "      <th>lead_points</th>\n",
       "      <th>combined_points</th>\n",
       "      <th>highest_grade</th>\n",
       "      <th>count_8c_plus</th>\n",
       "      <th>avg_grade_first5</th>\n",
       "    </tr>\n",
       "  </thead>\n",
       "  <tbody>\n",
       "    <tr>\n",
       "      <th>count</th>\n",
       "      <td>429.000000</td>\n",
       "      <td>316.000000</td>\n",
       "      <td>195.000000</td>\n",
       "      <td>157.000000</td>\n",
       "      <td>61.000000</td>\n",
       "      <td>157.000000</td>\n",
       "    </tr>\n",
       "    <tr>\n",
       "      <th>mean</th>\n",
       "      <td>301.124242</td>\n",
       "      <td>372.655380</td>\n",
       "      <td>857.554872</td>\n",
       "      <td>21.847134</td>\n",
       "      <td>16.180328</td>\n",
       "      <td>19.323439</td>\n",
       "    </tr>\n",
       "    <tr>\n",
       "      <th>std</th>\n",
       "      <td>581.401670</td>\n",
       "      <td>643.704321</td>\n",
       "      <td>1311.443736</td>\n",
       "      <td>4.081173</td>\n",
       "      <td>51.418060</td>\n",
       "      <td>3.806938</td>\n",
       "    </tr>\n",
       "    <tr>\n",
       "      <th>min</th>\n",
       "      <td>1.000000</td>\n",
       "      <td>1.000000</td>\n",
       "      <td>4.000000</td>\n",
       "      <td>3.000000</td>\n",
       "      <td>1.000000</td>\n",
       "      <td>3.000000</td>\n",
       "    </tr>\n",
       "    <tr>\n",
       "      <th>25%</th>\n",
       "      <td>12.000000</td>\n",
       "      <td>12.000000</td>\n",
       "      <td>50.000000</td>\n",
       "      <td>20.000000</td>\n",
       "      <td>1.000000</td>\n",
       "      <td>18.000000</td>\n",
       "    </tr>\n",
       "    <tr>\n",
       "      <th>50%</th>\n",
       "      <td>69.000000</td>\n",
       "      <td>48.500000</td>\n",
       "      <td>237.800000</td>\n",
       "      <td>23.000000</td>\n",
       "      <td>5.000000</td>\n",
       "      <td>20.210000</td>\n",
       "    </tr>\n",
       "    <tr>\n",
       "      <th>75%</th>\n",
       "      <td>282.500000</td>\n",
       "      <td>421.000000</td>\n",
       "      <td>1076.750000</td>\n",
       "      <td>25.000000</td>\n",
       "      <td>12.000000</td>\n",
       "      <td>21.790000</td>\n",
       "    </tr>\n",
       "    <tr>\n",
       "      <th>max</th>\n",
       "      <td>3835.000000</td>\n",
       "      <td>3220.000000</td>\n",
       "      <td>6508.000000</td>\n",
       "      <td>29.000000</td>\n",
       "      <td>388.000000</td>\n",
       "      <td>25.540000</td>\n",
       "    </tr>\n",
       "  </tbody>\n",
       "</table>\n",
       "</div>"
      ]
     },
     "execution_count": 6,
     "metadata": {},
     "output_type": "execute_result"
    }
   ],
   "execution_count": 6
  },
  {
   "metadata": {},
   "cell_type": "markdown",
   "source": [
    "As you can see from the output, we have:\n",
    "\n",
    "**Competition Participation:**\n",
    "  - 429 climbers competed in **bouldering**\n",
    "  - 316 climbers competed in **lead**\n",
    "  - 195 climbers competed in **combined**\n",
    "\n",
    "**Profile Data:**\n",
    "  - Out of the 551 climbers, only **157** have an **8a.nu profile**\n",
    "    - Of those, only **61** have an ascent grade of **8c+ or above**"
   ],
   "id": "ff2d50fbc8264220"
  },
  {
   "metadata": {},
   "cell_type": "markdown",
   "source": [
    "#### Gender Distribution\n",
    "Let's look at the gender distribution of our dataset"
   ],
   "id": "4f28431de0863cc5"
  },
  {
   "metadata": {
    "ExecuteTime": {
     "end_time": "2025-04-22T19:01:48.177768Z",
     "start_time": "2025-04-22T19:01:48.173159Z"
    }
   },
   "cell_type": "code",
   "source": [
    "print(\"Gender Distribution:\")\n",
    "# Calculate gender counts and percentages\n",
    "gender_counts = df['gender'].value_counts()\n",
    "gender_percentages = df['gender'].value_counts(normalize=True) * 100\n",
    "\n",
    "# Print compact output\n",
    "for gender, count in gender_counts.items():\n",
    "    print(f\"{gender.capitalize()}: {count} climbers ({gender_percentages[gender]:.2f}%)\")"
   ],
   "id": "923a6c2eb718131",
   "outputs": [
    {
     "name": "stdout",
     "output_type": "stream",
     "text": [
      "Gender Distribution:\n",
      "Male: 294 climbers (53.36%)\n",
      "Female: 257 climbers (46.64%)\n"
     ]
    }
   ],
   "execution_count": 14
  },
  {
   "metadata": {},
   "cell_type": "markdown",
   "source": "The data shows a near equal split between male and female climbers. This distribution aligns with expectations, as the IFSC strives to maintain balanced gender representation in its competitions, such as World Cups and Championships.",
   "id": "af3d25fd84db29fe"
  },
  {
   "metadata": {},
   "cell_type": "markdown",
   "source": "#### NaN Values",
   "id": "3c1df61c43d6a333"
  },
  {
   "metadata": {
    "ExecuteTime": {
     "end_time": "2025-04-22T19:05:50.966328Z",
     "start_time": "2025-04-22T19:05:50.960645Z"
    }
   },
   "cell_type": "code",
   "source": "df.isnull().sum() / df.shape[0]",
   "id": "25206b94eca87370",
   "outputs": [
    {
     "data": {
      "text/plain": [
       "name                0.000000\n",
       "country             0.000000\n",
       "gender              0.000000\n",
       "boulder_points      0.221416\n",
       "lead_points         0.426497\n",
       "combined_points     0.646098\n",
       "highest_grade       0.715064\n",
       "count_8c_plus       0.889292\n",
       "avg_grade_first5    0.715064\n",
       "dtype: float64"
      ]
     },
     "execution_count": 15,
     "metadata": {},
     "output_type": "execute_result"
    }
   ],
   "execution_count": 15
  }
 ],
 "metadata": {
  "kernelspec": {
   "display_name": "Python 3",
   "language": "python",
   "name": "python3"
  },
  "language_info": {
   "codemirror_mode": {
    "name": "ipython",
    "version": 2
   },
   "file_extension": ".py",
   "mimetype": "text/x-python",
   "name": "python",
   "nbconvert_exporter": "python",
   "pygments_lexer": "ipython2",
   "version": "2.7.6"
  }
 },
 "nbformat": 4,
 "nbformat_minor": 5
}
