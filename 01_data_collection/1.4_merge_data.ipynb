{
 "cells": [
  {
   "metadata": {},
   "cell_type": "markdown",
   "source": [
    "# Merging the IFSC and 8a.nu Datasets\n",
    "## Introduction\n",
    "\n",
    "This Python script merges climbing data from two distinct sources: the 8anu climbing dataset and the IFSC climbers dataset. The purpose of this script is to combine relevant climber information, including performance metrics from both datasets, into a unified CSV file for further analysis.\n",
    "\n",
    "### Datasets\n",
    "1. **8anu Climbing Data** (`8anu_climbing_data.csv`): Contains climber names along with their highest recorded grade, count of 8c+ routes climbed, and average grade of their first five ascents.\n",
    "2. **IFSC Climbers Data** (`ifsc_climbers.csv`): Provides climber details such as country, gender, and competition points across boulder, lead, and combined disciplines.\n",
    "\n",
    "For more information on how these data were scraped, you can check out the previous notebooks.\n",
    "\n",
    "### Output\n",
    "The resulting dataset includes the following columns:\n",
    "- `name`: Climber's name\n",
    "- `country`: Climber's country (from IFSC data)\n",
    "- `gender`: Climber's gender (from IFSC data)\n",
    "- `boulder_points`: Points in boulder discipline (from IFSC data)\n",
    "- `lead_points`: Points in lead discipline (from IFSC data)\n",
    "- `combined_points`: Points in combined discipline (from IFSC data)\n",
    "- `highest_grade`: Highest grade achieved (from 8anu data)\n",
    "- `count_8c_plus`: Number of 8c+ routes climbed (from 8anu data)\n",
    "- `avg_grade_first5`: Average grade of first five ascents (from 8anu data)\n",
    "\n",
    "This merged dataset provides a comprehensive view of climbers' performance across both competitive and outdoor climbing metrics."
   ],
   "id": "d8338a125a9dd5d8"
  },
  {
   "metadata": {},
   "cell_type": "markdown",
   "source": "Let's start with the imports",
   "id": "dfd128d3fd3f78ff"
  },
  {
   "metadata": {
    "ExecuteTime": {
     "end_time": "2025-04-22T17:08:49.676470Z",
     "start_time": "2025-04-22T17:08:49.673521Z"
    }
   },
   "cell_type": "code",
   "source": [
    "import pandas as pd\n",
    "import os"
   ],
   "id": "19a56e9a90c72fa9",
   "outputs": [],
   "execution_count": 2
  },
  {
   "metadata": {},
   "cell_type": "markdown",
   "source": "Next, let's read the datasets `8anu_climbing_data.csv` and `ifsc_climbers.csv`",
   "id": "f0ac35bef0bac99d"
  },
  {
   "metadata": {
    "ExecuteTime": {
     "end_time": "2025-04-22T17:12:52.912226Z",
     "start_time": "2025-04-22T17:12:52.901887Z"
    }
   },
   "cell_type": "code",
   "source": [
    "# Read the datasets\n",
    "anu_data = pd.read_csv(\"../data/8anu_data/8anu_climbing_data.csv\")\n",
    "ifsc_data = pd.read_csv(\"../data/ifsc_data/ifsc_climbers.csv\")\n",
    "\n",
    "# Create a dictionary from 8anu data for faster lookup (case-insensitive)\n",
    "anu_dict = {row['name'].lower(): row for _, row in anu_data.iterrows()}\n",
    "\n",
    "# Prepare the output data\n",
    "merged_data = []"
   ],
   "id": "950b62d5391ce912",
   "outputs": [],
   "execution_count": 16
  },
  {
   "metadata": {},
   "cell_type": "markdown",
   "source": "Now, let's loop through the ifsc dataset, pulling each climber’s name and matching it (case-insensitive) with 8a.nu data and add it to the merged data.",
   "id": "a2ef368b2e553028"
  },
  {
   "metadata": {
    "ExecuteTime": {
     "end_time": "2025-04-22T17:12:54.036714Z",
     "start_time": "2025-04-22T17:12:54.011698Z"
    }
   },
   "cell_type": "code",
   "source": [
    "# Loop through IFSC dataset\n",
    "for _, ifsc_row in ifsc_data.iterrows():\n",
    "    # Get the name\n",
    "    name = ifsc_row['name']\n",
    "\n",
    "    # Try to find matching 8anu data (case-insensitive)\n",
    "    anu_row = anu_dict.get(name.lower())\n",
    "\n",
    "    # Create new row with all required fields\n",
    "    new_row = {\n",
    "        'name': name.title(),\n",
    "        'country': ifsc_row['country'] if pd.notna(ifsc_row['country']) else None,\n",
    "        'gender': ifsc_row['gender'] if pd.notna(ifsc_row['gender']) else None,\n",
    "        'boulder_points': ifsc_row['boulder_points'] if pd.notna(ifsc_row['boulder_points']) else None,\n",
    "        'lead_points': ifsc_row['lead_points'] if pd.notna(ifsc_row['lead_points']) else None,\n",
    "        'combined_points': ifsc_row['combined_points'] if pd.notna(ifsc_row['combined_points']) else None,\n",
    "        'highest_grade': anu_row['highest_grade'] if anu_row is not None else None,\n",
    "        'count_8c_plus': anu_row['count_8c_plus'] if anu_row is not None else None,\n",
    "        'avg_grade_first5': anu_row['avg_grade_first5'] if anu_row is not None else None\n",
    "    }\n",
    "\n",
    "    merged_data.append(new_row)"
   ],
   "id": "14590a800d1d132b",
   "outputs": [],
   "execution_count": 17
  },
  {
   "metadata": {},
   "cell_type": "markdown",
   "source": " Finally, let's convert the merged data into a DataFrame, reorder the columns and save it to a csv.",
   "id": "ff0f65c44fe0a46a"
  },
  {
   "cell_type": "code",
   "id": "initial_id",
   "metadata": {
    "collapsed": true,
    "ExecuteTime": {
     "end_time": "2025-04-22T17:12:55.161491Z",
     "start_time": "2025-04-22T17:12:55.152765Z"
    }
   },
   "source": [
    "# Create final DataFrame\n",
    "result_df = pd.DataFrame(merged_data)\n",
    "\n",
    "# Define the column order\n",
    "column_order = ['name', 'country', 'gender', 'boulder_points', 'lead_points',\n",
    "                'combined_points', 'highest_grade', 'count_8c_plus', 'avg_grade_first5']\n",
    "\n",
    "\n",
    "output_dir = \"../data/\"\n",
    "os.makedirs(output_dir, exist_ok=True)\n",
    "temp_output_path = os.path.join(output_dir, \"final_data.csv\")\n",
    "result_df.to_csv(temp_output_path, index=False)\n",
    "\n",
    "print(\"Merged dataset saved to 'final_data.csv'\")"
   ],
   "outputs": [
    {
     "name": "stdout",
     "output_type": "stream",
     "text": [
      "Merged dataset saved to 'final_data.csv'\n"
     ]
    }
   ],
   "execution_count": 18
  },
  {
   "metadata": {},
   "cell_type": "markdown",
   "source": "Let's preview the final dataset",
   "id": "f2594d1185f1be0c"
  },
  {
   "metadata": {
    "ExecuteTime": {
     "end_time": "2025-04-22T17:12:56.506823Z",
     "start_time": "2025-04-22T17:12:56.494723Z"
    }
   },
   "cell_type": "code",
   "source": [
    "print(\"\\nFirst few rows of the result:\")\n",
    "result_df.head(10)"
   ],
   "id": "1f2f978b9ec37bd9",
   "outputs": [
    {
     "name": "stdout",
     "output_type": "stream",
     "text": [
      "\n",
      "First few rows of the result:\n"
     ]
    },
    {
     "data": {
      "text/plain": [
       "                name country gender  boulder_points  lead_points  \\\n",
       "0      Sorato Anraku     JPN   male          3835.0       2281.0   \n",
       "1         Dohyun Lee     KOR   male          3708.0       2123.0   \n",
       "2    Meichi Narasaki     JPN   male          3055.0          NaN   \n",
       "3      Sohta Amagasa     JPN   male          2967.0          NaN   \n",
       "4     Tomoa Narasaki     JPN   male          2459.0        415.0   \n",
       "5         Sam Avezou     FRA   male          2068.0       2977.0   \n",
       "6       Toby Roberts     GBR   male          1995.0       2380.0   \n",
       "7      Mejdi Schalck     FRA   male          1753.0        738.0   \n",
       "8       Dayan Akhtar     GBR   male          1556.0          NaN   \n",
       "9  Maximillian Milne     GBR   male          1528.0         75.0   \n",
       "\n",
       "   combined_points  highest_grade  count_8c_plus  avg_grade_first5  \n",
       "0           6508.0            NaN            NaN               NaN  \n",
       "1           4710.0            NaN            NaN               NaN  \n",
       "2              NaN            NaN            NaN               NaN  \n",
       "3              NaN            NaN            NaN               NaN  \n",
       "4           2860.0            NaN            NaN               NaN  \n",
       "5           3848.0            NaN            NaN               NaN  \n",
       "6           6180.0            NaN            NaN               NaN  \n",
       "7           1923.0           26.0           10.0             23.33  \n",
       "8              NaN            NaN            NaN               NaN  \n",
       "9           1528.0            NaN            NaN               NaN  "
      ],
      "text/html": [
       "<div>\n",
       "<style scoped>\n",
       "    .dataframe tbody tr th:only-of-type {\n",
       "        vertical-align: middle;\n",
       "    }\n",
       "\n",
       "    .dataframe tbody tr th {\n",
       "        vertical-align: top;\n",
       "    }\n",
       "\n",
       "    .dataframe thead th {\n",
       "        text-align: right;\n",
       "    }\n",
       "</style>\n",
       "<table border=\"1\" class=\"dataframe\">\n",
       "  <thead>\n",
       "    <tr style=\"text-align: right;\">\n",
       "      <th></th>\n",
       "      <th>name</th>\n",
       "      <th>country</th>\n",
       "      <th>gender</th>\n",
       "      <th>boulder_points</th>\n",
       "      <th>lead_points</th>\n",
       "      <th>combined_points</th>\n",
       "      <th>highest_grade</th>\n",
       "      <th>count_8c_plus</th>\n",
       "      <th>avg_grade_first5</th>\n",
       "    </tr>\n",
       "  </thead>\n",
       "  <tbody>\n",
       "    <tr>\n",
       "      <th>0</th>\n",
       "      <td>Sorato Anraku</td>\n",
       "      <td>JPN</td>\n",
       "      <td>male</td>\n",
       "      <td>3835.0</td>\n",
       "      <td>2281.0</td>\n",
       "      <td>6508.0</td>\n",
       "      <td>NaN</td>\n",
       "      <td>NaN</td>\n",
       "      <td>NaN</td>\n",
       "    </tr>\n",
       "    <tr>\n",
       "      <th>1</th>\n",
       "      <td>Dohyun Lee</td>\n",
       "      <td>KOR</td>\n",
       "      <td>male</td>\n",
       "      <td>3708.0</td>\n",
       "      <td>2123.0</td>\n",
       "      <td>4710.0</td>\n",
       "      <td>NaN</td>\n",
       "      <td>NaN</td>\n",
       "      <td>NaN</td>\n",
       "    </tr>\n",
       "    <tr>\n",
       "      <th>2</th>\n",
       "      <td>Meichi Narasaki</td>\n",
       "      <td>JPN</td>\n",
       "      <td>male</td>\n",
       "      <td>3055.0</td>\n",
       "      <td>NaN</td>\n",
       "      <td>NaN</td>\n",
       "      <td>NaN</td>\n",
       "      <td>NaN</td>\n",
       "      <td>NaN</td>\n",
       "    </tr>\n",
       "    <tr>\n",
       "      <th>3</th>\n",
       "      <td>Sohta Amagasa</td>\n",
       "      <td>JPN</td>\n",
       "      <td>male</td>\n",
       "      <td>2967.0</td>\n",
       "      <td>NaN</td>\n",
       "      <td>NaN</td>\n",
       "      <td>NaN</td>\n",
       "      <td>NaN</td>\n",
       "      <td>NaN</td>\n",
       "    </tr>\n",
       "    <tr>\n",
       "      <th>4</th>\n",
       "      <td>Tomoa Narasaki</td>\n",
       "      <td>JPN</td>\n",
       "      <td>male</td>\n",
       "      <td>2459.0</td>\n",
       "      <td>415.0</td>\n",
       "      <td>2860.0</td>\n",
       "      <td>NaN</td>\n",
       "      <td>NaN</td>\n",
       "      <td>NaN</td>\n",
       "    </tr>\n",
       "    <tr>\n",
       "      <th>5</th>\n",
       "      <td>Sam Avezou</td>\n",
       "      <td>FRA</td>\n",
       "      <td>male</td>\n",
       "      <td>2068.0</td>\n",
       "      <td>2977.0</td>\n",
       "      <td>3848.0</td>\n",
       "      <td>NaN</td>\n",
       "      <td>NaN</td>\n",
       "      <td>NaN</td>\n",
       "    </tr>\n",
       "    <tr>\n",
       "      <th>6</th>\n",
       "      <td>Toby Roberts</td>\n",
       "      <td>GBR</td>\n",
       "      <td>male</td>\n",
       "      <td>1995.0</td>\n",
       "      <td>2380.0</td>\n",
       "      <td>6180.0</td>\n",
       "      <td>NaN</td>\n",
       "      <td>NaN</td>\n",
       "      <td>NaN</td>\n",
       "    </tr>\n",
       "    <tr>\n",
       "      <th>7</th>\n",
       "      <td>Mejdi Schalck</td>\n",
       "      <td>FRA</td>\n",
       "      <td>male</td>\n",
       "      <td>1753.0</td>\n",
       "      <td>738.0</td>\n",
       "      <td>1923.0</td>\n",
       "      <td>26.0</td>\n",
       "      <td>10.0</td>\n",
       "      <td>23.33</td>\n",
       "    </tr>\n",
       "    <tr>\n",
       "      <th>8</th>\n",
       "      <td>Dayan Akhtar</td>\n",
       "      <td>GBR</td>\n",
       "      <td>male</td>\n",
       "      <td>1556.0</td>\n",
       "      <td>NaN</td>\n",
       "      <td>NaN</td>\n",
       "      <td>NaN</td>\n",
       "      <td>NaN</td>\n",
       "      <td>NaN</td>\n",
       "    </tr>\n",
       "    <tr>\n",
       "      <th>9</th>\n",
       "      <td>Maximillian Milne</td>\n",
       "      <td>GBR</td>\n",
       "      <td>male</td>\n",
       "      <td>1528.0</td>\n",
       "      <td>75.0</td>\n",
       "      <td>1528.0</td>\n",
       "      <td>NaN</td>\n",
       "      <td>NaN</td>\n",
       "      <td>NaN</td>\n",
       "    </tr>\n",
       "  </tbody>\n",
       "</table>\n",
       "</div>"
      ]
     },
     "execution_count": 19,
     "metadata": {},
     "output_type": "execute_result"
    }
   ],
   "execution_count": 19
  },
  {
   "metadata": {
    "ExecuteTime": {
     "end_time": "2025-04-22T17:12:09.702067Z",
     "start_time": "2025-04-22T17:12:09.699265Z"
    }
   },
   "cell_type": "code",
   "source": "",
   "id": "f2efa2f623ec590f",
   "outputs": [],
   "execution_count": null
  }
 ],
 "metadata": {
  "kernelspec": {
   "display_name": "Python 3",
   "language": "python",
   "name": "python3"
  },
  "language_info": {
   "codemirror_mode": {
    "name": "ipython",
    "version": 2
   },
   "file_extension": ".py",
   "mimetype": "text/x-python",
   "name": "python",
   "nbconvert_exporter": "python",
   "pygments_lexer": "ipython2",
   "version": "2.7.6"
  }
 },
 "nbformat": 4,
 "nbformat_minor": 5
}
